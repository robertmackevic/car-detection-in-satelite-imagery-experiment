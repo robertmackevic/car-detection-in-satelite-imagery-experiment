{
 "cells": [
  {
   "cell_type": "code",
   "execution_count": null,
   "metadata": {},
   "outputs": [],
   "source": [
    "from pathlib import Path\n",
    "\n",
    "import torch\n",
    "from torch.utils.data import DataLoader\n",
    "\n",
    "from src.data.dataset import ObjectDetectionDataset\n",
    "from src.data.entry import read_entries_from_directory, split_entries_train_val_test\n",
    "from src.data.visualize import plot_entries_original_and_annotated\n",
    "from src.trainer import Trainer\n",
    "from src.utils import load_config\n",
    "\n",
    "print(\"Pytorch version:\", torch.__version__)\n",
    "print(\"CUDA enabled:\", torch.cuda.is_available())"
   ]
  },
  {
   "cell_type": "code",
   "execution_count": null,
   "metadata": {},
   "outputs": [],
   "source": [
    "DEVICE = torch.device(\"cuda\" if torch.cuda.is_available else \"cpu\")\n",
    "DATASET_DIR = Path(\"C:/Users/robert/Desktop/sem1/NN/datasets/DetectionPatches_512x512_ALL\")\n",
    "CHECKPOINT_DIR = Path(\"models\")\n",
    "CONFIG_PATH = Path(\"config.json\")\n",
    "SINGLE_CLASS = True"
   ]
  },
  {
   "cell_type": "code",
   "execution_count": null,
   "metadata": {},
   "outputs": [],
   "source": [
    "config = load_config(CONFIG_PATH)\n",
    "seed = config[\"seed\"]\n",
    "torch.manual_seed(seed)\n",
    "config"
   ]
  },
  {
   "cell_type": "code",
   "execution_count": null,
   "metadata": {},
   "outputs": [],
   "source": [
    "entries = read_entries_from_directory(DATASET_DIR)\n",
    "train_entries, val_entries, test_entries = split_entries_train_val_test(entries, seed=seed)"
   ]
  },
  {
   "cell_type": "code",
   "execution_count": null,
   "metadata": {},
   "outputs": [],
   "source": [
    "train_dataset = ObjectDetectionDataset(train_entries, single_class=SINGLE_CLASS, config=config)\n",
    "val_dataset = ObjectDetectionDataset(val_entries, single_class=SINGLE_CLASS, config=config)\n",
    "test_dataset = ObjectDetectionDataset(test_entries, single_class=SINGLE_CLASS, config=config)\n",
    "\n",
    "num_positive_entries = train_dataset.num_positive + val_dataset.num_positive + test_dataset.num_positive\n",
    "num_negative_entries = train_dataset.num_negative + val_dataset.num_negative + test_dataset.num_negative\n",
    "objects_per_entry = [len(entry.annotations) for entry in entries]\n",
    "total_objects = sum(objects_per_entry)\n",
    "max_objects = max(objects_per_entry)\n",
    "\n",
    "print(f\"Total number of entries: {len(entries)}\")\n",
    "print(f\"Total number of positive entries: {num_positive_entries} ({num_positive_entries / len(entries) * 100:.2f}%)\")\n",
    "print(f\"Total number of negative entries: {num_negative_entries} ({num_negative_entries / len(entries) * 100:.2f}%)\")\n",
    "print(f\"Total number of unique objects (cars): {total_objects}\")\n",
    "print(f\"Average number of objects per positive entry: {total_objects / num_positive_entries:.2f}\")\n",
    "print(f\"Max number of objects in an entry: {max_objects}\")\n",
    "print(train_dataset.describe(\"TRAIN\"))\n",
    "print(val_dataset.describe(\"VAL\"))\n",
    "print(test_dataset.describe(\"TEST\"))"
   ]
  },
  {
   "cell_type": "code",
   "execution_count": null,
   "metadata": {},
   "outputs": [],
   "source": [
    "max_annotation_entry = max(entries, key=lambda x: len(x.annotations), default=None)\n",
    "\n",
    "if max_annotation_entry is not None:\n",
    "    plot_entries_original_and_annotated([max_annotation_entry], samples_to_display=1)"
   ]
  },
  {
   "cell_type": "code",
   "execution_count": null,
   "metadata": {},
   "outputs": [],
   "source": [
    "plot_entries_original_and_annotated(train_dataset.entries, samples_to_display=1)"
   ]
  },
  {
   "cell_type": "code",
   "execution_count": null,
   "metadata": {},
   "outputs": [],
   "source": [
    "batch_size = config[\"batch_size\"]\n",
    "train_dataloader = DataLoader(train_dataset, batch_size=batch_size, shuffle=False, pin_memory=True)\n",
    "val_dataloader = DataLoader(val_dataset, batch_size=batch_size, shuffle=False, pin_memory=True)\n",
    "test_dataloader = DataLoader(test_dataset, batch_size=batch_size, shuffle=False, pin_memory=True)"
   ]
  },
  {
   "cell_type": "code",
   "execution_count": null,
   "metadata": {},
   "outputs": [],
   "source": [
    "trainer = Trainer(\n",
    "    config=config,\n",
    "    dataloaders=(train_dataloader, val_dataloader, test_dataloader),\n",
    "    device=DEVICE,\n",
    "    save_dir=CHECKPOINT_DIR,\n",
    "    checkpoint_path=None\n",
    ")"
   ]
  },
  {
   "cell_type": "code",
   "execution_count": null,
   "metadata": {},
   "outputs": [],
   "source": [
    "trainer.fit()"
   ]
  },
  {
   "cell_type": "code",
   "execution_count": null,
   "metadata": {},
   "outputs": [],
   "source": [
    "trainer.evaluate(test_dataloader)"
   ]
  }
 ],
 "metadata": {
  "kernelspec": {
   "display_name": "nn",
   "language": "python",
   "name": "python3"
  },
  "language_info": {
   "codemirror_mode": {
    "name": "ipython",
    "version": 3
   },
   "file_extension": ".py",
   "mimetype": "text/x-python",
   "name": "python",
   "nbconvert_exporter": "python",
   "pygments_lexer": "ipython3",
   "version": "3.11.5"
  }
 },
 "nbformat": 4,
 "nbformat_minor": 2
}
