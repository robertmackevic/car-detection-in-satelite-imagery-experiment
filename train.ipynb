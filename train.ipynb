{
 "cells": [
  {
   "cell_type": "code",
   "execution_count": null,
   "metadata": {},
   "outputs": [],
   "source": [
    "import torch\n",
    "\n",
    "from pathlib import Path\n",
    "from torch.utils.data import DataLoader\n",
    "\n",
    "from src.utils import load_config\n",
    "from src.data.dataset import ObjectDetectionDataset\n",
    "from src.data.entry import read_entries_from_directory, split_entries_train_val_test\n",
    "from src.data.visualize import plot_entries_original_and_annotated\n",
    "from src.trainer import Trainer\n",
    "\n",
    "print(\"Pytorch version:\", torch.__version__)\n",
    "print(\"CUDA enabled:\", torch.cuda.is_available())"
   ]
  },
  {
   "cell_type": "code",
   "execution_count": null,
   "metadata": {},
   "outputs": [],
   "source": [
    "DEVICE = torch.device(\"cuda\" if torch.cuda.is_available else \"cpu\")\n",
    "DATASET_DIR = Path(\"C:/Users/robert/Desktop/sem1/NN/datasets/DetectionPatches_512x512_ALL\")\n",
    "CHECKPOINT_DIR = Path(\"models\")\n",
    "CONFIG_PATH = Path(\"config.json\")\n",
    "SINGLE_CLASS = True"
   ]
  },
  {
   "cell_type": "code",
   "execution_count": null,
   "metadata": {},
   "outputs": [],
   "source": [
    "config = load_config(CONFIG_PATH)\n",
    "seed = config[\"seed\"]\n",
    "torch.manual_seed(seed)\n",
    "config"
   ]
  },
  {
   "cell_type": "code",
   "execution_count": null,
   "metadata": {},
   "outputs": [],
   "source": [
    "entries = read_entries_from_directory(DATASET_DIR)\n",
    "train_entries, val_entries, test_entries = split_entries_train_val_test(entries, seed=seed)"
   ]
  },
  {
   "cell_type": "code",
   "execution_count": null,
   "metadata": {},
   "outputs": [],
   "source": [
    "train_dataset = ObjectDetectionDataset(train_entries, single_class=SINGLE_CLASS, config=config)\n",
    "val_dataset = ObjectDetectionDataset(val_entries, single_class=SINGLE_CLASS, config=config)\n",
    "test_dataset = ObjectDetectionDataset(test_entries, single_class=SINGLE_CLASS, config=config)\n",
    "\n",
    "print(f\"Number TRAIN of entries: {len(train_dataset)} | positive {train_dataset.num_positive} | negative {train_dataset.num_negative}\")\n",
    "print(f\"Number VAL of entries: {len(val_dataset)} | positive {val_dataset.num_positive} | negative {val_dataset.num_negative}\")\n",
    "print(f\"Number TEST of entries: {len(test_dataset)} | positive {test_dataset.num_positive} | negative {test_dataset.num_negative}\")"
   ]
  },
  {
   "cell_type": "code",
   "execution_count": null,
   "metadata": {},
   "outputs": [],
   "source": [
    "plot_entries_original_and_annotated(train_dataset.entries, samples_to_display=1)"
   ]
  },
  {
   "cell_type": "code",
   "execution_count": null,
   "metadata": {},
   "outputs": [],
   "source": [
    "batch_size = config[\"batch_size\"]\n",
    "train_dataloader = DataLoader(train_dataset, batch_size=batch_size, shuffle=False)\n",
    "val_dataloader = DataLoader(val_dataset, batch_size=batch_size, shuffle=False)\n",
    "test_dataloader = DataLoader(test_dataset, batch_size=batch_size, shuffle=False)"
   ]
  },
  {
   "cell_type": "code",
   "execution_count": null,
   "metadata": {},
   "outputs": [],
   "source": [
    "trainer = Trainer(\n",
    "    config=config,\n",
    "    dataloaders=(train_dataloader, val_dataloader, test_dataloader),\n",
    "    device=DEVICE,\n",
    "    save_dir=CHECKPOINT_DIR,\n",
    "    checkpoint_path=None\n",
    ")"
   ]
  },
  {
   "cell_type": "code",
   "execution_count": null,
   "metadata": {},
   "outputs": [],
   "source": [
    "trainer.fit()"
   ]
  },
  {
   "cell_type": "code",
   "execution_count": null,
   "metadata": {},
   "outputs": [],
   "source": [
    "trainer.evaluate(train_dataloader)"
   ]
  }
 ],
 "metadata": {
  "kernelspec": {
   "display_name": "nn",
   "language": "python",
   "name": "python3"
  },
  "language_info": {
   "codemirror_mode": {
    "name": "ipython",
    "version": 3
   },
   "file_extension": ".py",
   "mimetype": "text/x-python",
   "name": "python",
   "nbconvert_exporter": "python",
   "pygments_lexer": "ipython3",
   "version": "3.11.5"
  }
 },
 "nbformat": 4,
 "nbformat_minor": 2
}
