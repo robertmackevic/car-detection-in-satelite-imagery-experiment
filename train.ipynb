{
 "cells": [
  {
   "cell_type": "code",
   "execution_count": null,
   "metadata": {},
   "outputs": [],
   "source": [
    "from pathlib import Path\n",
    "\n",
    "import torch\n",
    "from torch.utils.data import DataLoader\n",
    "\n",
    "from src.data.dataset import ObjectDetectionDataset\n",
    "from src.data.entry import (\n",
    "    read_entries_from_directory,\n",
    "    split_entries_train_val_test,\n",
    "    equalize_negative_samples_with_positives\n",
    ")\n",
    "from src.data.transforms import get_inference_transform, get_training_transform\n",
    "from src.data.visualize import plot_entries_original_and_annotated\n",
    "from src.trainer import Trainer\n",
    "from src.utils import load_config, seed_everything\n",
    "\n",
    "print(\"Pytorch version:\", torch.__version__)\n",
    "print(\"CUDA enabled:\", torch.cuda.is_available())\n",
    "if torch.cuda.is_available():\n",
    "    print(\"Device:\", torch.cuda.get_device_name())"
   ]
  },
  {
   "cell_type": "code",
   "execution_count": null,
   "metadata": {},
   "outputs": [],
   "source": [
    "DEVICE = torch.device(\"cuda\" if torch.cuda.is_available else \"cpu\")\n",
    "DATASET_DIR = Path(\"C:/Users/robert/Desktop/sem1/NN/datasets/DetectionPatches_512x512_ALL_No-Overlap\")\n",
    "CHECKPOINT_DIR = Path(\"models\")\n",
    "CONFIG_PATH = Path(\"config.json\")\n",
    "config = load_config(CONFIG_PATH)\n",
    "seed_everything(seed=config[\"seed\"])\n",
    "config"
   ]
  },
  {
   "cell_type": "code",
   "execution_count": null,
   "outputs": [],
   "source": [
    "entries = read_entries_from_directory(\n",
    "    data_dir=DATASET_DIR,\n",
    "    leave_out_negatives=True,\n",
    "    patch_size=config[\"image_size\"],\n",
    ")\n",
    "entries = equalize_negative_samples_with_positives(entries)\n",
    "train_entries, val_entries, test_entries = split_entries_train_val_test(entries)"
   ],
   "metadata": {
    "collapsed": false
   }
  },
  {
   "cell_type": "code",
   "execution_count": null,
   "metadata": {},
   "outputs": [],
   "source": [
    "train_transform = get_training_transform(config[\"image_size\"], config[\"in_channels\"])\n",
    "test_transform = get_inference_transform(config[\"image_size\"], config[\"in_channels\"])\n",
    "\n",
    "full_dataset = ObjectDetectionDataset(entries, config=config, transforms=test_transform)\n",
    "train_dataset = ObjectDetectionDataset(train_entries, config=config, transforms=train_transform)\n",
    "val_dataset = ObjectDetectionDataset(val_entries, config=config, transforms=test_transform)\n",
    "test_dataset = ObjectDetectionDataset(test_entries, config=config, transforms=test_transform)\n",
    "\n",
    "print(full_dataset.describe(\"FULL\"))\n",
    "print(train_dataset.describe(\"TRAIN\"))\n",
    "print(val_dataset.describe(\"VAL\"))\n",
    "print(test_dataset.describe(\"TEST\"))"
   ]
  },
  {
   "cell_type": "code",
   "execution_count": null,
   "outputs": [],
   "source": [
    "max_annotation_entry = max(entries, key=lambda x: len(x.annotations), default=None)\n",
    "\n",
    "if max_annotation_entry is not None:\n",
    "    plot_entries_original_and_annotated([max_annotation_entry], samples_to_display=1, linewidth=1)"
   ]
  },
  {
   "cell_type": "code",
   "execution_count": null,
   "metadata": {},
   "outputs": [],
   "source": [
    "batch_size = config[\"batch_size\"]\n",
    "train_dataloader = DataLoader(train_dataset, batch_size=batch_size, shuffle=False, pin_memory=True)\n",
    "val_dataloader = DataLoader(val_dataset, batch_size=batch_size, shuffle=False, pin_memory=True)\n",
    "test_dataloader = DataLoader(test_dataset, batch_size=batch_size, shuffle=False, pin_memory=True)"
   ]
  },
  {
   "cell_type": "code",
   "execution_count": null,
   "metadata": {},
   "outputs": [],
   "source": [
    "trainer = Trainer(\n",
    "    config=config,\n",
    "    dataloaders=(train_dataloader, val_dataloader, test_dataloader),\n",
    "    device=DEVICE,\n",
    "    save_dir=CHECKPOINT_DIR,\n",
    "    checkpoint_path=None\n",
    ")"
   ]
  },
  {
   "cell_type": "code",
   "execution_count": null,
   "metadata": {},
   "outputs": [],
   "source": [
    "trainer.fit()"
   ]
  },
  {
   "cell_type": "code",
   "execution_count": null,
   "metadata": {},
   "outputs": [],
   "source": [
    "trainer.evaluate(test_dataloader, iou_threshold=0.5, threshold=0.4)"
   ]
  }
 ],
 "metadata": {
  "kernelspec": {
   "display_name": "nn",
   "language": "python",
   "name": "python3"
  },
  "language_info": {
   "codemirror_mode": {
    "name": "ipython",
    "version": 3
   },
   "file_extension": ".py",
   "mimetype": "text/x-python",
   "name": "python",
   "nbconvert_exporter": "python",
   "pygments_lexer": "ipython3",
   "version": "3.11.5"
  }
 },
 "nbformat": 4,
 "nbformat_minor": 2
}
